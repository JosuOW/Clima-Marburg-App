{
 "cells": [
  {
   "cell_type": "markdown",
   "id": "23d02db3-d3d3-4549-b0b7-ba49ab3ee32b",
   "metadata": {},
   "source": [
    "# Proyecto Análisis de Datos de Temperatura\n",
    "\n",
    "## Asignatura ICCD332 Arquitectura de Computadores\n",
    "**Fecha:** 2025-02-08\n",
    "\n",
    "**Coders:** Juan  Murillo - Josune Singaña\n",
    "\n",
    "- Objetivo: realizar la isnpección sobre los datos recolectados a través del API de openweather y usando la configuración de Linux para el registro de los mismos"
   ]
  },
  {
   "cell_type": "code",
   "execution_count": 1,
   "id": "eebde41a-a9af-4b59-b8b6-17f111461b4c",
   "metadata": {},
   "outputs": [
    {
     "data": {
      "text/plain": [
       "['MasburgTemperatureAnalysis.ipynb', '.ipynb_checkpoints']"
      ]
     },
     "execution_count": 1,
     "metadata": {},
     "output_type": "execute_result"
    }
   ],
   "source": [
    "import os\n",
    "import pandas as pd\n",
    "os.listdir(os.getcwd())"
   ]
  },
  {
   "cell_type": "code",
   "execution_count": null,
   "id": "f101f488-d2e8-40ea-97c4-11a0bedfd42e",
   "metadata": {},
   "outputs": [],
   "source": []
  }
 ],
 "metadata": {
  "kernelspec": {
   "display_name": "Python 3 (ipykernel)",
   "language": "python",
   "name": "python3"
  },
  "language_info": {
   "codemirror_mode": {
    "name": "ipython",
    "version": 3
   },
   "file_extension": ".py",
   "mimetype": "text/x-python",
   "name": "python",
   "nbconvert_exporter": "python",
   "pygments_lexer": "ipython3",
   "version": "3.11.10"
  }
 },
 "nbformat": 4,
 "nbformat_minor": 5
}
